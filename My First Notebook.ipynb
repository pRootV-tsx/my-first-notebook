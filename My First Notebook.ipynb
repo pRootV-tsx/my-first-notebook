{
 "cells": [
  {
   "cell_type": "markdown",
   "id": "8abd4729-b690-4d15-8649-19b5e6fbac13",
   "metadata": {},
   "source": [
    "# Data Science Fundamentals\n"
   ]
  },
  {
   "cell_type": "markdown",
   "id": "467cbaf7-9eba-4bf8-bde0-fd4a4a85a1e2",
   "metadata": {},
   "source": [
    "This notebook provides an introduction to the fundamental concepts and tools used in data science. It covers topics such as data science languages, libraries, and tools, as well as basic arithmetic operations and conversions.\n"
   ]
  },
  {
   "cell_type": "markdown",
   "id": "485b0cfb-71fe-44c1-904b-f547def7c5e5",
   "metadata": {},
   "source": [
    "The primary programming languages used in data science include:\n",
    "\n",
    "* Python\n",
    "* R\n",
    "* Julia\n",
    "* Scala\n"
   ]
  },
  {
   "cell_type": "markdown",
   "id": "79ea9249-ffd4-4e77-82b5-ead27cc4172d",
   "metadata": {},
   "source": [
    "Data scientists utilize various libraries to perform tasks such as data manipulation, analysis, and visualization. Some popular libraries include:\n",
    "\n",
    "* NumPy: Numerical operations on arrays\n",
    "* Pandas: Data manipulation and analysis\n",
    "* Matplotlib: Data visualization\n",
    "* Seaborn: Statistical data visualization\n",
    "* Scikit-learn: Machine learning algorithms\n"
   ]
  },
  {
   "cell_type": "markdown",
   "id": "0b1a940d-94da-43a0-83e7-9a704bd03d23",
   "metadata": {},
   "source": [
    "| Tool | Description |\n",
    "|---|---|\n",
    "| GitHub | Code hosting platform for version control and collaboration |\n",
    "| Jupyter Notebook | Interactive environment for writing code and displaying results |\n",
    "| Google Colaboratory | Cloud-based Jupyter Notebook environment |\n",
    "| Kaggle | Data science competition platform |\n",
    "| Coursera | Online Platfrom to learn data science and many more |\n",
    "| DataCamp | Online platform for learning data science |\n"
   ]
  },
  {
   "cell_type": "markdown",
   "id": "5b2b9fdd-088e-4d26-aaad-212b8efab703",
   "metadata": {},
   "source": [
    "Arithmetic expressions combine numbers and operators to perform calculations. Examples of arithmetic expressions include:\n",
    "\n",
    "* `2 + 3` (addition)\n",
    "* `5 * 4` (multiplication)\n",
    "* `10 - 6` (subtraction)\n",
    "* `8 / 2` (division)\n"
   ]
  },
  {
   "cell_type": "code",
   "execution_count": 4,
   "id": "007ee74b-2467-461c-9ac3-9f9e4bc4c13c",
   "metadata": {},
   "outputs": [
    {
     "name": "stdout",
     "output_type": "stream",
     "text": [
      "The product is: 56\n",
      "The sum is: 17\n"
     ]
    }
   ],
   "source": [
    "# Multiply two numbers\n",
    "product = 7 * 8\n",
    "print(\"The product is:\", product)\n",
    "\n",
    "# Add three numbers\n",
    "sum = 10 + 5 + 2\n",
    "print(\"The sum is:\", sum)\n"
   ]
  },
  {
   "cell_type": "code",
   "execution_count": 5,
   "id": "89ce7619-b273-4331-8764-c59a3c0044cc",
   "metadata": {},
   "outputs": [
    {
     "name": "stdout",
     "output_type": "stream",
     "text": [
      "The time in hours is: 1.0\n"
     ]
    }
   ],
   "source": [
    "# Convert minutes to hours\n",
    "minutes = 60\n",
    "hours = minutes / 60\n",
    "print(\"The time in hours is:\", hours)\n"
   ]
  },
  {
   "cell_type": "markdown",
   "id": "6ba28119-af73-4260-8526-0eb3c4c7f94a",
   "metadata": {
    "tags": []
   },
   "source": [
    "The objectives of this notebook are to:\n",
    "\n",
    "* Introduce the fundamental concepts of data science\n",
    "* Familiarize with data science languages, libraries, and tools\n",
    "* Perform basic arithmetic operations and conversions using Python\n"
   ]
  },
  {
   "cell_type": "markdown",
   "id": "29ac1d0b-62c3-4297-bab2-1e0b8232f022",
   "metadata": {},
   "source": [
    "This notebook was created by Khrystyna, A Data science and Cyber-Security Lover\n"
   ]
  },
  {
   "cell_type": "code",
   "execution_count": null,
   "id": "4d2fac3d-7028-4620-9211-5185aaa97d70",
   "metadata": {},
   "outputs": [],
   "source": []
  }
 ],
 "metadata": {
  "kernelspec": {
   "display_name": "Python",
   "language": "python",
   "name": "conda-env-python-py"
  },
  "language_info": {
   "codemirror_mode": {
    "name": "ipython",
    "version": 3
   },
   "file_extension": ".py",
   "mimetype": "text/x-python",
   "name": "python",
   "nbconvert_exporter": "python",
   "pygments_lexer": "ipython3",
   "version": "3.7.12"
  }
 },
 "nbformat": 4,
 "nbformat_minor": 5
}
